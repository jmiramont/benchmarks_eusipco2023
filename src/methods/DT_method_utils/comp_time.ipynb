{
 "cells": [
  {
   "attachments": {},
   "cell_type": "markdown",
   "metadata": {},
   "source": [
    "# Denoising by Delaunay Triangulation on Spectrogram zeros"
   ]
  },
  {
   "cell_type": "code",
   "execution_count": 1,
   "metadata": {},
   "outputs": [],
   "source": [
    "import numpy as np\n",
    "import time\n",
    "from numpy import pi as pi\n",
    "import seaborn as sns\n",
    "import matplotlib.pyplot as plt\n",
    "import cmocean\n",
    "from src.utilstf import *\n",
    "from mcsm_benchs.Benchmark import Benchmark\n",
    "from mcsm_benchs.SignalBank import SignalBank\n",
    "from src.methods.method_delaunay_triangulation import delaunay_triangulation_denoising"
   ]
  },
  {
   "cell_type": "code",
   "execution_count": 2,
   "metadata": {},
   "outputs": [],
   "source": [
    "# signal parameters\n",
    "SNRin = 10\n",
    "N = 512\n",
    "sbank = SignalBank(N=N, return_signal=True)\n",
    "tmin = sbank.tmin\n",
    "tmax = sbank.tmax\n",
    "s = sbank.signal_mc_damped_cos()\n",
    "\n",
    "np.random.seed(0)\n",
    "reps = 50\n",
    "M = [512, 1024, 2048]\n",
    "elapsed = np.zeros((len(M),reps))\n",
    "qrf = np.zeros((len(M),reps))\n",
    "\n",
    "for m in range(len(M)):\n",
    "    for i in range(reps):\n",
    "        noise = np.random.randn(N,)\n",
    "        signal = Benchmark.sigmerge(s, noise, SNRin)\n",
    "        start = time.time()\n",
    "        output = delaunay_triangulation_denoising(signal,\n",
    "                                        Nfft = M[m],\n",
    "                                        grouping = True,\n",
    "                                        ngroups=signal.total_comps,\n",
    "                                        LB = 1.4,\n",
    "                                        )\n",
    "\n",
    "        end = time.time()\n",
    "        elapsed[m,i] = end-start\n",
    "        qrf[m,i] = Benchmark.snr_comparison(s,output,tmin=tmin,tmax=tmax)"
   ]
  },
  {
   "cell_type": "code",
   "execution_count": 3,
   "metadata": {},
   "outputs": [
    {
     "data": {
      "text/plain": [
       "array([13.2921278 , 11.81010279,  4.3894649 ])"
      ]
     },
     "execution_count": 3,
     "metadata": {},
     "output_type": "execute_result"
    }
   ],
   "source": [
    "np.mean(qrf,axis=1)"
   ]
  },
  {
   "cell_type": "code",
   "execution_count": 4,
   "metadata": {},
   "outputs": [
    {
     "data": {
      "text/plain": [
       "array([0.40140302, 0.63038939, 1.07652465])"
      ]
     },
     "execution_count": 4,
     "metadata": {},
     "output_type": "execute_result"
    }
   ],
   "source": [
    "np.mean(elapsed,axis=1)"
   ]
  },
  {
   "cell_type": "code",
   "execution_count": 5,
   "metadata": {},
   "outputs": [],
   "source": [
    "# signal parameters\n",
    "SNRin = 10\n",
    "N = 1024\n",
    "sbank = SignalBank(N=N, return_signal=True)\n",
    "tmin = sbank.tmin\n",
    "tmax = sbank.tmax\n",
    "s = sbank.signal_mc_damped_cos()\n",
    "\n",
    "np.random.seed(0)\n",
    "reps = 50\n",
    "M = [512, 1024, 2048]\n",
    "elapsed = np.zeros((len(M),reps))\n",
    "qrf = np.zeros((len(M),reps))\n",
    "\n",
    "for m in range(len(M)):\n",
    "    for i in range(reps):\n",
    "        noise = np.random.randn(N,)\n",
    "        signal = Benchmark.sigmerge(s, noise, SNRin)\n",
    "        start = time.time()\n",
    "        output = delaunay_triangulation_denoising(signal,\n",
    "                                        Nfft = M[m],\n",
    "                                        grouping = True,\n",
    "                                        ngroups=signal.total_comps,\n",
    "                                        LB = 1.45,\n",
    "                                        )\n",
    "\n",
    "        end = time.time()\n",
    "        elapsed[m,i] = end-start\n",
    "        qrf[m,i] = Benchmark.snr_comparison(s,output,tmin=tmin,tmax=tmax)"
   ]
  },
  {
   "cell_type": "code",
   "execution_count": 6,
   "metadata": {},
   "outputs": [
    {
     "data": {
      "text/plain": [
       "array([14.67084195, 15.02584566, 14.5935183 ])"
      ]
     },
     "execution_count": 6,
     "metadata": {},
     "output_type": "execute_result"
    }
   ],
   "source": [
    "np.mean(qrf,axis=1)"
   ]
  },
  {
   "cell_type": "code",
   "execution_count": 7,
   "metadata": {},
   "outputs": [
    {
     "data": {
      "text/plain": [
       "array([0.80351038, 1.2736675 , 2.17706817])"
      ]
     },
     "execution_count": 7,
     "metadata": {},
     "output_type": "execute_result"
    }
   ],
   "source": [
    "np.mean(elapsed,axis=1)"
   ]
  }
 ],
 "metadata": {
  "kernelspec": {
   "display_name": ".venv",
   "language": "python",
   "name": "python3"
  },
  "language_info": {
   "codemirror_mode": {
    "name": "ipython",
    "version": 3
   },
   "file_extension": ".py",
   "mimetype": "text/x-python",
   "name": "python",
   "nbconvert_exporter": "python",
   "pygments_lexer": "ipython3",
   "version": "3.10.12"
  },
  "orig_nbformat": 4,
  "vscode": {
   "interpreter": {
    "hash": "834f0118f3afcb9b049378559915087ccdbc4c0353742fedccf9319851bfb9dc"
   }
  }
 },
 "nbformat": 4,
 "nbformat_minor": 2
}
