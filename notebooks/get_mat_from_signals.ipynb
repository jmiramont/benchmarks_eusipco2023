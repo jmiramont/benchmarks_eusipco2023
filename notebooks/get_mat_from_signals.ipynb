{
 "cells": [
  {
   "cell_type": "code",
   "execution_count": 1,
   "metadata": {},
   "outputs": [],
   "source": [
    "from benchmark_demo.Benchmark import Benchmark\n",
    "from benchmark_demo.SignalBank import SignalBank\n",
    "from benchmark_demo.ResultsInterpreter import ResultsInterpreter\n",
    "import scipy.io\n",
    "import pickle\n",
    "import pandas as pd\n",
    "# import seaborn as sns\n",
    "from benchmark_demo.utilstf import *\n",
    "import matplotlib.pyplot as plt\n",
    "import numpy as np\n",
    "from mpl_toolkits.axes_grid1 import ImageGrid\n",
    "import string\n"
   ]
  },
  {
   "cell_type": "code",
   "execution_count": 2,
   "metadata": {},
   "outputs": [
    {
     "name": "stderr",
     "output_type": "stream",
     "text": [
      "C:\\Users\\juan_\\Nextcloud\\Miramont_Juan\\python_code\\benchmark-eusipco\\src\\benchmark_demo\\SignalBank.py:1181: RuntimeWarning: divide by zero encountered in divide\n",
      "  e = np.exp(-alfa*np.arange(tt))*((np.arange(tt)-c)**2/np.arange(tt))\n",
      "C:\\Users\\juan_\\Nextcloud\\Miramont_Juan\\python_code\\benchmark-eusipco\\src\\benchmark_demo\\SignalBank.py:1369: RuntimeWarning: divide by zero encountered in divide\n",
      "  e = np.exp(-alfa*np.arange(tt))*((np.arange(tt)-c)**2/np.arange(tt))\n"
     ]
    }
   ],
   "source": [
    "N = 1024\n",
    "sb = SignalBank(N, return_signal=True)\n",
    "signal_dict = sb.generate_signal_dict()\n",
    "\n",
    "for signal_id in signal_dict:\n",
    "    signal = signal_dict[signal_id]()\n",
    "    comps = signal.comps\n",
    "    instf = signal.instf\n",
    "    Ncomps = signal.total_comps\n",
    "    vec_nc = signal.ncomps\n",
    "    mat_file_content = {'x':signal,'comps':comps, 'instf':instf, 'Ncomp':Ncomps, 'vec_nc':vec_nc}\n",
    "    scipy.io.savemat('./signals_mat/'+signal_id+'.mat',mat_file_content)\n",
    "\n"
   ]
  }
 ],
 "metadata": {
  "kernelspec": {
   "display_name": ".venv",
   "language": "python",
   "name": "python3"
  },
  "language_info": {
   "codemirror_mode": {
    "name": "ipython",
    "version": 3
   },
   "file_extension": ".py",
   "mimetype": "text/x-python",
   "name": "python",
   "nbconvert_exporter": "python",
   "pygments_lexer": "ipython3",
   "version": "3.9.13"
  },
  "orig_nbformat": 4,
  "vscode": {
   "interpreter": {
    "hash": "834f0118f3afcb9b049378559915087ccdbc4c0353742fedccf9319851bfb9dc"
   }
  }
 },
 "nbformat": 4,
 "nbformat_minor": 2
}
