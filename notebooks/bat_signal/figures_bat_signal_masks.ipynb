{
 "cells": [
  {
   "attachments": {},
   "cell_type": "markdown",
   "metadata": {},
   "source": [
    "# Figures Bat Signal Masks\n",
    "Generate the figures for the paper using the masks computed in ```demo_bat_signal.m```."
   ]
  },
  {
   "cell_type": "code",
   "execution_count": 7,
   "metadata": {},
   "outputs": [],
   "source": [
    "import matlab.engine\n",
    "import numpy as np\n",
    "from scipy.io import loadmat\n",
    "import seaborn as sns\n",
    "import matplotlib.pyplot as plt\n",
    "import cmocean\n",
    "\n",
    "from benchmark_demo.utilstf import *\n",
    "from benchmark_demo.SignalBank import SignalBank\n",
    "from benchmark_demo.benchmark_utils import MatlabInterface\n",
    "\n",
    "\n",
    "import sys\n",
    "import os"
   ]
  },
  {
   "cell_type": "code",
   "execution_count": 8,
   "metadata": {},
   "outputs": [],
   "source": [
    "# Load the signal\n",
    "# Import a .mat file from Matlab where the signal is stored.\n",
    "filename = './batsig.mat'\n",
    "batsignal = loadmat(filename)\n",
    "x = batsignal['batsig'][:,0]\n",
    "N = len(x)\n",
    "Ncomps = 3\n",
    "Sbatsig, Fbatsig= get_spectrogram(x,)\n",
    "sf= 1"
   ]
  },
  {
   "cell_type": "code",
   "execution_count": 9,
   "metadata": {},
   "outputs": [
    {
     "data": {
      "image/png": "[encoded data removed]",
      "text/plain": [
       "<Figure size 100x100 with 1 Axes>"
      ]
     },
     "metadata": {},
     "output_type": "display_data"
    }
   ],
   "source": [
    "# EM method\n",
    "filename = './mask_EM.mat'\n",
    "matfile = loadmat(filename)\n",
    "mask = matfile['mask_EM']\n",
    "\n",
    "fig, ax = plt.subplots(1,1, figsize=(sf,sf))\n",
    "ax.imshow(mask, origin='lower', aspect='auto', cmap='bone')\n",
    "\n",
    "\n",
    "# ax.set_xlim([0,400])\n",
    "# ax.set_ylim([0,400])\n",
    "fig.canvas.draw()\n",
    "ax.tick_params(axis='both', which='both', bottom=False, top=False, \n",
    "    labelbottom=False, right=False, left=False, labelleft=False)\n",
    "# ax.set_ylabel('frequency', fontsize=6.0)\n",
    "ax.set_xlabel('time', fontsize=6.0)\n",
    "\n",
    "fig.savefig('batsig_EM_mask.pdf', dpi=900, transparent=False, bbox_inches='tight', pad_inches=0)  "
   ]
  },
  {
   "cell_type": "code",
   "execution_count": 10,
   "metadata": {},
   "outputs": [
    {
     "data": {
      "image/png": "[encoded data removed]",
      "text/plain": [
       "<Figure size 100x100 with 1 Axes>"
      ]
     },
     "metadata": {},
     "output_type": "display_data"
    }
   ],
   "source": [
    "# PB method without SST\n",
    "filename = './mask_PB.mat'\n",
    "matfile = loadmat(filename)\n",
    "mask = matfile['mask_PB']\n",
    "\n",
    "fig, ax = plt.subplots(1,1, figsize=(sf,sf))\n",
    "ax.imshow(mask, origin='lower', aspect='auto', cmap='bone')\n",
    "\n",
    "\n",
    "# ax.set_xlim([0,400])\n",
    "# ax.set_ylim([0,400])\n",
    "fig.canvas.draw()\n",
    "ax.tick_params(axis='both', which='both', bottom=False, top=False, \n",
    "    labelbottom=False, right=False, left=False, labelleft=False)\n",
    "# ax.set_ylabel('frequency', fontsize=6.0)\n",
    "ax.set_xlabel('time', fontsize=6.0)\n",
    "\n",
    "fig.savefig('batsig_PB_mask.pdf', dpi=900, transparent=False, bbox_inches='tight', pad_inches=0)  "
   ]
  },
  {
   "cell_type": "code",
   "execution_count": 11,
   "metadata": {},
   "outputs": [
    {
     "data": {
      "image/png": "[encoded data removed]",
      "text/plain": [
       "<Figure size 100x100 with 1 Axes>"
      ]
     },
     "metadata": {},
     "output_type": "display_data"
    }
   ],
   "source": [
    "# DT method with analytic signal IF model \n",
    "from methods.method_delaunay_triangulation import NewMethod\n",
    "dt_method = NewMethod().method\n",
    "output_dict = dt_method(x, grouping=True, ngroups=3, LB = 1.75, return_dic=True)\n",
    "mask = output_dict['mask']\n",
    "fig, ax = plt.subplots(1,1,figsize=(sf,sf))\n",
    "ax.imshow(mask, origin='lower', cmap='bone')\n",
    "ax.set_xlim([0,400])\n",
    "ax.set_ylim([0,400])\n",
    "# ax.axis('off')\n",
    "fig.canvas.draw()\n",
    "ax.tick_params(axis='both', which='both', bottom=False, top=False, \n",
    "    labelbottom=False, right=False, left=False, labelleft=False)\n",
    "# ax.set_ylabel('frequency', fontsize=6.0)\n",
    "ax.set_xlabel('time', fontsize=6.0)\n",
    "\n",
    "fig.savefig('batsig_DT_1_mask.pdf', dpi=900, transparent=False, bbox_inches='tight', pad_inches=0)  "
   ]
  },
  {
   "cell_type": "code",
   "execution_count": 12,
   "metadata": {},
   "outputs": [
    {
     "data": {
      "image/png": "[encoded data removed]",
      "text/plain": [
       "<Figure size 100x100 with 1 Axes>"
      ]
     },
     "metadata": {},
     "output_type": "display_data"
    }
   ],
   "source": [
    "# DT method with analytic signal IF model \n",
    "from methods.method_delaunay_triangulation import NewMethod\n",
    "dt_method = NewMethod().method\n",
    "output_dict = dt_method(x, grouping=True, ngroups=3, LB = 1.45, return_dic=True)\n",
    "mask = output_dict['mask']\n",
    "fig, ax = plt.subplots(1,1,figsize=(sf,sf))\n",
    "ax.imshow(mask, origin='lower', cmap='bone')\n",
    "ax.set_xlim([0,400])\n",
    "ax.set_ylim([0,400])\n",
    "# ax.axis('off')\n",
    "fig.canvas.draw()\n",
    "ax.tick_params(axis='both', which='both', bottom=False, top=False, \n",
    "    labelbottom=False, right=False, left=False, labelleft=False)\n",
    "ax.set_ylabel('frequency', fontsize=6.0)\n",
    "ax.set_xlabel('time', fontsize=6.0)\n",
    "\n",
    "fig.savefig('batsig_DT_2_mask.pdf', dpi=900, transparent=False, bbox_inches='tight', pad_inches=0)  "
   ]
  }
 ],
 "metadata": {
  "kernelspec": {
   "display_name": ".venv",
   "language": "python",
   "name": "python3"
  },
  "language_info": {
   "codemirror_mode": {
    "name": "ipython",
    "version": 3
   },
   "file_extension": ".py",
   "mimetype": "text/x-python",
   "name": "python",
   "nbconvert_exporter": "python",
   "pygments_lexer": "ipython3",
   "version": "3.9.13"
  },
  "orig_nbformat": 4,
  "vscode": {
   "interpreter": {
    "hash": "834f0118f3afcb9b049378559915087ccdbc4c0353742fedccf9319851bfb9dc"
   }
  }
 },
 "nbformat": 4,
 "nbformat_minor": 2
}
